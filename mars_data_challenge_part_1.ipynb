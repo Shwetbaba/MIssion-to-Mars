{
 "cells": [
  {
   "cell_type": "code",
   "execution_count": 1,
   "id": "688198d5",
   "metadata": {},
   "outputs": [],
   "source": [
    "# Importing Pandas\n",
    "import pandas as pd"
   ]
  },
  {
   "cell_type": "code",
   "execution_count": 2,
   "id": "83a3d782",
   "metadata": {},
   "outputs": [],
   "source": [
    "# Importing Splinter, BeautifulSoup and Chrome Web browser\n",
    "from splinter import Browser\n",
    "from bs4 import BeautifulSoup\n",
    "from selenium import webdriver\n",
    "from webdriver_manager.chrome import ChromeDriverManager"
   ]
  },
  {
   "cell_type": "code",
   "execution_count": 3,
   "id": "1ecb6022",
   "metadata": {},
   "outputs": [],
   "source": [
    "#Launch Chrome web browser and url\n",
    "executable_path = {'executable_path': ChromeDriverManager().install()}\n",
    "browser = Browser('chrome', **executable_path, headless=False)\n",
    "url = 'https://redplanetscience.com'\n",
    "browser.visit(url)"
   ]
  },
  {
   "cell_type": "code",
   "execution_count": 5,
   "id": "ceb9b1da",
   "metadata": {},
   "outputs": [],
   "source": [
    "# Creating an HTML object\n",
    "html = browser.html\n",
    "\n",
    "# Parse HTML with Beautiful Soup\n",
    "soup = BeautifulSoup(html, 'html.parser')"
   ]
  },
  {
   "cell_type": "code",
   "execution_count": 6,
   "id": "eec3e0ea",
   "metadata": {},
   "outputs": [
    {
     "name": "stdout",
     "output_type": "stream",
     "text": [
      "News - Mars Exploration Program\n"
     ]
    }
   ],
   "source": [
    "# Extract title text\n",
    "title = soup.title.text\n",
    "print(title)"
   ]
  },
  {
   "cell_type": "code",
   "execution_count": 7,
   "id": "0788c9fb",
   "metadata": {},
   "outputs": [
    {
     "name": "stdout",
     "output_type": "stream",
     "text": [
      "News Title = Heat and Dust Help Launch Martian Water Into Space, Scientists Find\n",
      "--------------------------------------------------------------------\n",
      "--------------------------------------------------------------------\n",
      "News Paragraph = Scientists using an instrument aboard NASA’s Mars Atmosphere and Volatile EvolutioN, or MAVEN, spacecraft have discovered that water vapor near the surface of the Red Planet is lofted higher into the atmosphere than anyone expected was possible. \n"
     ]
    }
   ],
   "source": [
    "#Scraping the website and collecting latest title and paragraph\n",
    "\n",
    "results = soup.find(\"div\", class_='list_text')\n",
    "News_Title = results.find(\"div\", class_=\"content_title\").text\n",
    "News_Paragraph = results.find(\"div\", class_ =\"article_teaser_body\").text\n",
    "\n",
    "print(f\"News Title = {News_Title}\")\n",
    "print(\"--------------------------------------------------------------------\")\n",
    "print(\"--------------------------------------------------------------------\")\n",
    "print(f\"News Paragraph = {News_Paragraph}\")"
   ]
  },
  {
   "cell_type": "code",
   "execution_count": 8,
   "id": "1ec561e4",
   "metadata": {},
   "outputs": [],
   "source": [
    "#Quit Browser\n",
    "browser.quit()"
   ]
  },
  {
   "cell_type": "code",
   "execution_count": null,
   "id": "ca8fff97",
   "metadata": {},
   "outputs": [],
   "source": []
  }
 ],
 "metadata": {
  "kernelspec": {
   "display_name": "Python 3 (ipykernel)",
   "language": "python",
   "name": "python3"
  },
  "language_info": {
   "codemirror_mode": {
    "name": "ipython",
    "version": 3
   },
   "file_extension": ".py",
   "mimetype": "text/x-python",
   "name": "python",
   "nbconvert_exporter": "python",
   "pygments_lexer": "ipython3",
   "version": "3.9.12"
  }
 },
 "nbformat": 4,
 "nbformat_minor": 5
}
